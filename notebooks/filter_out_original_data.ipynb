{
 "cells": [
  {
   "cell_type": "code",
   "execution_count": null,
   "metadata": {},
   "outputs": [],
   "source": [
    "import pandas as pd\n",
    "import os"
   ]
  },
  {
   "cell_type": "code",
   "execution_count": null,
   "metadata": {},
   "outputs": [],
   "source": [
    "def filter_dataset(big_csv_path, filter_csv_path, output_dir):\n",
    "    # Load the big dataset\n",
    "    big_df = pd.read_csv(big_csv_path)\n",
    "\n",
    "    # Load the filter file that contains only file_id\n",
    "    filter_df = pd.read_csv(filter_csv_path)\n",
    "\n",
    "    # Filter out rows in big_df where file_id is in filter_df\n",
    "    trimmed_df = big_df[~big_df['file_id'].isin(filter_df['file_id'])]\n",
    "\n",
    "    # Prepare the output file name\n",
    "    base_name = os.path.basename(big_csv_path)\n",
    "    base_name, ext = os.path.splitext(base_name)\n",
    "    trimmed_file_name = f\"{base_name}_trimmed{ext}\"\n",
    "\n",
    "    # Create the output directory if it doesn't exist\n",
    "    os.makedirs(output_dir, exist_ok=True)\n",
    "\n",
    "    # Full path for the trimmed file\n",
    "    output_file_path = os.path.join(output_dir, trimmed_file_name)\n",
    "\n",
    "    # Save the trimmed dataframe to a new CSV file\n",
    "    trimmed_df.to_csv(output_file_path, index=False)\n",
    "\n",
    "    print(f\"Trimmed dataset saved to {output_file_path}\")"
   ]
  },
  {
   "cell_type": "code",
   "execution_count": null,
   "metadata": {},
   "outputs": [],
   "source": [
    "big_csv_path = 'big_dataset.csv'\n",
    "filter_csv_path = 'filter_file.csv'\n",
    "output_dir = 'output_directory'\n",
    "\n",
    "filter_dataset(big_csv_path, filter_csv_path, output_dir)"
   ]
  }
 ],
 "metadata": {
  "kernelspec": {
   "display_name": "Python 3",
   "language": "python",
   "name": "python3"
  },
  "language_info": {
   "name": "python",
   "version": "3.12.1"
  }
 },
 "nbformat": 4,
 "nbformat_minor": 2
}
