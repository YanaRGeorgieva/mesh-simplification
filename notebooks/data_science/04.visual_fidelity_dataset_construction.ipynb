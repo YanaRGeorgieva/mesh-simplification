{
 "cells": [
  {
   "cell_type": "code",
   "execution_count": 1,
   "metadata": {},
   "outputs": [],
   "source": [
    "import os\n",
    "import logging\n",
    "\n",
    "import trimesh\n",
    "\n",
    "import numpy as np\n",
    "import pandas as pd\n",
    "from scipy.spatial import cKDTree"
   ]
  },
  {
   "cell_type": "markdown",
   "metadata": {},
   "source": [
    "# Calculation of visual fidelity metrics"
   ]
  },
  {
   "cell_type": "markdown",
   "metadata": {},
   "source": [
    "One of the most inportant things is to somehow measure the visual resemblence of the original and simplified meshes. After some search with Google and the papers of [Garland and Heckbert (1997)](https://www.cs.cmu.edu/~garland/Papers/quadrics.pdf) and [Elena Ovreiu. Accurate 3D mesh simplification (2012)](https://theses.hal.science/tel-01224848/file/these.pdf), I chose three metrics (I could have gone with just one in the Garland and Heckbert paper, but all were not that difficult to implement using `KDTree`s)."
   ]
  },
  {
   "cell_type": "markdown",
   "metadata": {},
   "source": [
    "For the KDtree construction we use a fixed size: accuracy vs performance trade-off. Also it is a kind of standardization and ensures reproducibility of the results of the notebook (I listned it the last lectures when it was streesed upon multiple times). The meshes have realtively a low number of vertices as a whole, so the calculations will be accurate enough."
   ]
  },
  {
   "cell_type": "code",
   "execution_count": 2,
   "metadata": {},
   "outputs": [],
   "source": [
    "SAMPLE_SIZE = 10000 # "
   ]
  },
  {
   "cell_type": "markdown",
   "metadata": {},
   "source": [
    "#### Hausdorff Distance\n",
    "**Hausdorff Distance** is a metric that measures the greatest distance from a point in one set to the nearest point in another set. In the context of 3D meshes, it calculates the maximum distance between the vertices of the original mesh and the simplified mesh. This metric captures the worst-case error, reflecting how far the two meshes deviate from each other at their most distant points.\n",
    "\n",
    "The **Hausdorff Distance** between two sets of points $A$ and $B$ is defined as:\n",
    "\n",
    "\\begin{equation*}\n",
    "d_H(A, B) = \\max\\left\\{\\sup_{a \\in A} \\inf_{b \\in B} \\|a - b\\|, \\sup_{b \\in B} \\inf_{a \\in A} \\|b - a\\|\\right\\}\n",
    "\\end{equation*}"
   ]
  },
  {
   "cell_type": "code",
   "execution_count": 3,
   "metadata": {},
   "outputs": [],
   "source": [
    "def hausdorff_distance(mesh1, mesh2):\n",
    "    \"\"\"\n",
    "    Calculate the Hausdorff Distance between two meshes.\n",
    "    \n",
    "    Parameters:\n",
    "    mesh1 (trimesh.Trimesh): The first mesh, typically the original mesh.\n",
    "    mesh2 (trimesh.Trimesh): The second mesh, typically the simplified mesh.\n",
    "\n",
    "    Returns:\n",
    "    float: The Hausdorff Distance between the two meshes.\n",
    "    \"\"\"\n",
    "    # Sample points on the surface of each mesh\n",
    "    points1 = mesh1.sample(SAMPLE_SIZE)\n",
    "    points2 = mesh2.sample(SAMPLE_SIZE)\n",
    "    \n",
    "    # Create KD-trees for fast nearest neighbor search\n",
    "    tree1 = cKDTree(points1)\n",
    "    tree2 = cKDTree(points2)\n",
    "    \n",
    "    # Compute distances from each point in mesh1 to the nearest point in mesh2\n",
    "    distances_1_to_2, _ = tree2.query(points1, k=1)\n",
    "    \n",
    "    # Compute distances from each point in mesh2 to the nearest point in mesh1\n",
    "    distances_2_to_1, _ = tree1.query(points2, k=1)\n",
    "    \n",
    "    # The Hausdorff distance is the maximum of these distances\n",
    "    hausdorff_dist = max(distances_1_to_2.max(), distances_2_to_1.max())\n",
    "    return hausdorff_dist"
   ]
  },
  {
   "cell_type": "markdown",
   "metadata": {},
   "source": [
    "#### RMSE (Root Mean Square Error)\n",
    "\n",
    "**RMSE (Root Mean Square Error)** is a standard metric used to measure the average magnitude of the error between predicted and actual values. For 3D meshes, RMSE quantifies the average distance between corresponding vertices of the original and simplified meshes. It provides an overall measure of how well the simplified mesh approximates the original mesh, with lower RMSE values indicating a closer fit.\n",
    "\n",
    "The **RMSE** between two sets of corresponding points $A = \\{a_1, a_2, \\dots, a_n\\}$ representing the vertices of the original mesh and $B = \\{b_1, b_2, \\dots, b_n\\}$ representing the vertices of the simplified mesh is defined as:\n",
    "\n",
    "\\begin{equation*}\n",
    "\\text{RMSE} = \\sqrt{\\frac{1}{n} \\sum_{i=1}^{n} \\|a_i - b_i\\|^2}\n",
    "\\end{equation*}"
   ]
  },
  {
   "cell_type": "code",
   "execution_count": 4,
   "metadata": {},
   "outputs": [],
   "source": [
    "def rmse(mesh1, mesh2):\n",
    "    \"\"\"\n",
    "    Calculate the RMSE (Root Mean Square Error) between two meshes.\n",
    "    This measures how well the simplified mesh (mesh2) approximates the original mesh (mesh1).\n",
    "    \n",
    "    Parameters:\n",
    "    mesh1 (trimesh.Trimesh): The first mesh, the original mesh.\n",
    "    mesh2 (trimesh.Trimesh): The second mesh, the simplified mesh.\n",
    "\n",
    "    Returns:\n",
    "    float: The RMSE between the two meshes.\n",
    "    \"\"\"\n",
    "    # Sample points on the surface of each mesh\n",
    "    points1 = mesh1.sample(SAMPLE_SIZE)\n",
    "    points2 = mesh2.sample(SAMPLE_SIZE)\n",
    "    \n",
    "    # Create a KD-tree for the original mesh points\n",
    "    tree1 = cKDTree(points1)\n",
    "    \n",
    "    # Compute distances from each point in the simplified mesh (mesh2) to the nearest point in the original mesh (mesh1)\n",
    "    distances, _ = tree1.query(points2, k=1)\n",
    "    \n",
    "    # Compute RMSE\n",
    "    rmse_value = np.sqrt(np.mean(distances**2))\n",
    "    return rmse_value\n"
   ]
  },
  {
   "cell_type": "markdown",
   "metadata": {},
   "source": [
    "#### The metric described in Section 6.1 of the paper titled \"Surface Simplification Using Quadric Error Metrics\" by Michael Garland and Paul S. Heckbert\n",
    "Measures the quality of approximations by calculating the average squared distance between the original model and its simplified version. This metric is closely related to what is known as the *mean squared error* but applied to 3D meshes.\n",
    "The error metric $E_i$ is defined as follows:\n",
    "\n",
    "\\begin{equation*}\n",
    "E_i = \\frac{1}{|X_n| + |X_i|} \\left( \\sum_{v \\in X_n} d^2(v, M_i) + \\sum_{v \\in X_i} d^2(v, M_n) \\right)\n",
    "\\end{equation*}\n",
    "\n",
    "Where:\n",
    "- $X_n$ is a set of points sampled on the original model $M_n$.\n",
    "- $X_i$ is a set of points sampled on the simplified model $M_i$.\n",
    "- $d(v, M)$ is the minimum distance from a point $v$ to the closest face of the model $M$.\n",
    "\n",
    "This metric averages the squared distances from the points on the original mesh to the simplified mesh and vice versa.\n",
    "\n"
   ]
  },
  {
   "cell_type": "code",
   "execution_count": 5,
   "metadata": {},
   "outputs": [],
   "source": [
    "def mesh_simplification_error(mesh1, mesh2):\n",
    "    \"\"\"\n",
    "    Calculate the error metric as described in Section 6.1.\n",
    "    \n",
    "    Parameters:\n",
    "    mesh1 (trimesh.Trimesh): The first mesh, typically the original mesh.\n",
    "    mesh2 (trimesh.Trimesh): The second mesh, typically the simplified mesh.\n",
    "\n",
    "    Returns:\n",
    "    float: The Section 6.1 defined metric distnace between the two meshes.\n",
    "    \"\"\"\n",
    "    points1 = mesh1.sample(SAMPLE_SIZE)\n",
    "    points2 = mesh2.sample(SAMPLE_SIZE)\n",
    "    \n",
    "    tree1 = cKDTree(points1)\n",
    "    tree2 = cKDTree(points2)\n",
    "    \n",
    "    # Sum of squared distances from original mesh points to simplified mesh\n",
    "    distances_1_to_2, _ = tree2.query(points1, k=1)\n",
    "    error_1_to_2 = np.sum(distances_1_to_2**2)\n",
    "    \n",
    "    # Sum of squared distances from simplified mesh points to original mesh\n",
    "    distances_2_to_1, _ = tree1.query(points2, k=1)\n",
    "    error_2_to_1 = np.sum(distances_2_to_1**2)\n",
    "    \n",
    "    # Combined error\n",
    "    error_metric = (error_1_to_2 + error_2_to_1) / (len(points1) + len(points2))\n",
    "    \n",
    "    return error_metric"
   ]
  },
  {
   "cell_type": "code",
   "execution_count": 6,
   "metadata": {},
   "outputs": [],
   "source": [
    "def process_meshes(original_folder, simplified_folder):\n",
    "    \"\"\"\n",
    "    Process and compare 3D meshes from two directories, calculating several error metrics.\n",
    "\n",
    "    This function iterates over pairs of meshes from the original and simplified directories,\n",
    "    calculates the Hausdorff Distance, RMSE, and Garland-Heckbert error between each pair,\n",
    "    and returns a pandas dataframe with the results.\n",
    "\n",
    "    Parameters:\n",
    "    original_folder (str): Path to the folder containing the original meshes.\n",
    "    simplified_folder (str): Path to the folder containing the simplified meshes.\n",
    "\n",
    "    Returns:\n",
    "    pandas.DataFrame: A DataFrame containing the visual fidelity results for each pairs of mesh file.\n",
    "    \"\"\"\n",
    "    data = []\n",
    "\n",
    "    original_files = {os.path.splitext(f)[0]: f for f in os.listdir(original_folder)}\n",
    "    \n",
    "    for prefix, original_filename in original_files.items():\n",
    "        original_filepath = os.path.join(original_folder, original_filename)\n",
    "\n",
    "        # Find the corresponding simplified files with the same prefix\n",
    "        simplified_files = [f for f in os.listdir(simplified_folder) if f == original_filename]\n",
    "\n",
    "        for simplified_filename in simplified_files:\n",
    "            simplified_filepath = os.path.join(simplified_folder, simplified_filename)\n",
    "\n",
    "            original_mesh = trimesh.load(original_filepath)\n",
    "            simplified_mesh = trimesh.load(simplified_filepath)\n",
    "            \n",
    "            logging.info(f\"Processing files: {original_filename}\")\n",
    "            hausdorff_dist = hausdorff_distance(original_mesh, simplified_mesh)\n",
    "            rmse_value = rmse(original_mesh, simplified_mesh)\n",
    "            garland_heckbert_error = mesh_simplification_error(original_mesh, simplified_mesh)\n",
    "            logging.info(f\"Done processing files: {original_filename}\")\n",
    "            data.append([prefix, hausdorff_dist, rmse_value, garland_heckbert_error])\n",
    "            \n",
    "    columns = ['file_id', 'hausdorff_distance', 'rmse', 'garland_heckbert_error']\n",
    "\n",
    "    df = pd.DataFrame(data, columns=columns)\n",
    "    return df"
   ]
  },
  {
   "cell_type": "code",
   "execution_count": null,
   "metadata": {},
   "outputs": [],
   "source": [
    "original_folder_path = './../../data/Thingi10K/raw_meshes/FilteredFiles'\n",
    "simplified_folder_path = './../../data/simplified_output/'\n",
    "output_folder_path = './../../data/csv_data/visual_fidelity_data/'"
   ]
  },
  {
   "cell_type": "code",
   "execution_count": 8,
   "metadata": {},
   "outputs": [],
   "source": [
    "run_folder_names = ['output_t0.0_r0.5_p2000', 'output_t0.1_r0.5_p2000', 'output_t0.1_r0.9_p2000', 'output_t0.3_r0.9_p2000']"
   ]
  },
  {
   "cell_type": "code",
   "execution_count": 9,
   "metadata": {},
   "outputs": [],
   "source": [
    "log_file = 'process_fidelity_log.log'\n",
    "logging.basicConfig(filename=log_file, level=logging.INFO, format='%(asctime)s - %(levelname)s - %(message)s')"
   ]
  },
  {
   "cell_type": "code",
   "execution_count": 10,
   "metadata": {},
   "outputs": [],
   "source": [
    "visual_fidelity_data = process_meshes(original_folder_path, simplified_folder_path + run_folder_names[0])"
   ]
  },
  {
   "cell_type": "markdown",
   "metadata": {},
   "source": [
    "Looks good to me :)"
   ]
  },
  {
   "cell_type": "code",
   "execution_count": 11,
   "metadata": {},
   "outputs": [
    {
     "data": {
      "text/html": [
       "<div>\n",
       "<style scoped>\n",
       "    .dataframe tbody tr th:only-of-type {\n",
       "        vertical-align: middle;\n",
       "    }\n",
       "\n",
       "    .dataframe tbody tr th {\n",
       "        vertical-align: top;\n",
       "    }\n",
       "\n",
       "    .dataframe thead th {\n",
       "        text-align: right;\n",
       "    }\n",
       "</style>\n",
       "<table border=\"1\" class=\"dataframe\">\n",
       "  <thead>\n",
       "    <tr style=\"text-align: right;\">\n",
       "      <th></th>\n",
       "      <th>file_id</th>\n",
       "      <th>hausdorff_distance</th>\n",
       "      <th>rmse</th>\n",
       "      <th>garland_heckbert_error</th>\n",
       "    </tr>\n",
       "  </thead>\n",
       "  <tbody>\n",
       "    <tr>\n",
       "      <th>0</th>\n",
       "      <td>100026</td>\n",
       "      <td>26.177169</td>\n",
       "      <td>1.041855</td>\n",
       "      <td>7.348570</td>\n",
       "    </tr>\n",
       "    <tr>\n",
       "      <th>1</th>\n",
       "      <td>100029</td>\n",
       "      <td>7.911350</td>\n",
       "      <td>0.888609</td>\n",
       "      <td>1.040496</td>\n",
       "    </tr>\n",
       "    <tr>\n",
       "      <th>2</th>\n",
       "      <td>100031</td>\n",
       "      <td>1.347594</td>\n",
       "      <td>0.388934</td>\n",
       "      <td>0.150414</td>\n",
       "    </tr>\n",
       "    <tr>\n",
       "      <th>3</th>\n",
       "      <td>100032</td>\n",
       "      <td>2.552619</td>\n",
       "      <td>0.843002</td>\n",
       "      <td>0.707361</td>\n",
       "    </tr>\n",
       "    <tr>\n",
       "      <th>4</th>\n",
       "      <td>100075</td>\n",
       "      <td>0.607961</td>\n",
       "      <td>0.095559</td>\n",
       "      <td>0.005549</td>\n",
       "    </tr>\n",
       "    <tr>\n",
       "      <th>...</th>\n",
       "      <td>...</td>\n",
       "      <td>...</td>\n",
       "      <td>...</td>\n",
       "      <td>...</td>\n",
       "    </tr>\n",
       "    <tr>\n",
       "      <th>695</th>\n",
       "      <td>200683</td>\n",
       "      <td>0.893891</td>\n",
       "      <td>0.266128</td>\n",
       "      <td>0.070870</td>\n",
       "    </tr>\n",
       "    <tr>\n",
       "      <th>696</th>\n",
       "      <td>200685</td>\n",
       "      <td>1.332271</td>\n",
       "      <td>0.419334</td>\n",
       "      <td>0.174624</td>\n",
       "    </tr>\n",
       "    <tr>\n",
       "      <th>697</th>\n",
       "      <td>200687</td>\n",
       "      <td>0.802102</td>\n",
       "      <td>0.263326</td>\n",
       "      <td>0.070241</td>\n",
       "    </tr>\n",
       "    <tr>\n",
       "      <th>698</th>\n",
       "      <td>200691</td>\n",
       "      <td>0.395717</td>\n",
       "      <td>0.122549</td>\n",
       "      <td>0.015314</td>\n",
       "    </tr>\n",
       "    <tr>\n",
       "      <th>699</th>\n",
       "      <td>200694</td>\n",
       "      <td>0.232212</td>\n",
       "      <td>0.074848</td>\n",
       "      <td>0.005600</td>\n",
       "    </tr>\n",
       "  </tbody>\n",
       "</table>\n",
       "<p>700 rows × 4 columns</p>\n",
       "</div>"
      ],
      "text/plain": [
       "    file_id  hausdorff_distance      rmse  garland_heckbert_error\n",
       "0    100026           26.177169  1.041855                7.348570\n",
       "1    100029            7.911350  0.888609                1.040496\n",
       "2    100031            1.347594  0.388934                0.150414\n",
       "3    100032            2.552619  0.843002                0.707361\n",
       "4    100075            0.607961  0.095559                0.005549\n",
       "..      ...                 ...       ...                     ...\n",
       "695  200683            0.893891  0.266128                0.070870\n",
       "696  200685            1.332271  0.419334                0.174624\n",
       "697  200687            0.802102  0.263326                0.070241\n",
       "698  200691            0.395717  0.122549                0.015314\n",
       "699  200694            0.232212  0.074848                0.005600\n",
       "\n",
       "[700 rows x 4 columns]"
      ]
     },
     "execution_count": 11,
     "metadata": {},
     "output_type": "execute_result"
    }
   ],
   "source": [
    "visual_fidelity_data"
   ]
  },
  {
   "cell_type": "code",
   "execution_count": 12,
   "metadata": {},
   "outputs": [],
   "source": [
    "visual_fidelity_data.to_csv(output_folder_path + run_folder_names[0] + '_vf.csv', index=False)"
   ]
  },
  {
   "cell_type": "code",
   "execution_count": 13,
   "metadata": {},
   "outputs": [],
   "source": [
    "del visual_fidelity_data"
   ]
  },
  {
   "cell_type": "code",
   "execution_count": 14,
   "metadata": {},
   "outputs": [],
   "source": [
    "for name in run_folder_names[1:]:\n",
    "    visual_fidelity_data = process_meshes(original_folder_path, simplified_folder_path + name)\n",
    "    visual_fidelity_data.to_csv(output_folder_path + name + '_vf.csv', index=False)\n",
    "    del visual_fidelity_data"
   ]
  }
 ],
 "metadata": {
  "kernelspec": {
   "display_name": ".venv",
   "language": "python",
   "name": "python3"
  },
  "language_info": {
   "codemirror_mode": {
    "name": "ipython",
    "version": 3
   },
   "file_extension": ".py",
   "mimetype": "text/x-python",
   "name": "python",
   "nbconvert_exporter": "python",
   "pygments_lexer": "ipython3",
   "version": "3.12.5"
  }
 },
 "nbformat": 4,
 "nbformat_minor": 2
}
